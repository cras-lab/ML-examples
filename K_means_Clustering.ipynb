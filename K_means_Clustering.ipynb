{
  "nbformat": 4,
  "nbformat_minor": 0,
  "metadata": {
    "colab": {
      "provenance": [],
      "authorship_tag": "ABX9TyMOEUezR3BffwTdJ363eGcL",
      "include_colab_link": true
    },
    "kernelspec": {
      "name": "python3",
      "display_name": "Python 3"
    },
    "language_info": {
      "name": "python"
    }
  },
  "cells": [
    {
      "cell_type": "markdown",
      "metadata": {
        "id": "view-in-github",
        "colab_type": "text"
      },
      "source": [
        "<a href=\"https://colab.research.google.com/github/cras-lab/ML-examples/blob/main/K_means_Clustering.ipynb\" target=\"_parent\"><img src=\"https://colab.research.google.com/assets/colab-badge.svg\" alt=\"Open In Colab\"/></a>"
      ]
    },
    {
      "cell_type": "markdown",
      "source": [
        "k-means 클러스터링을 붓꽃 데이터에 대해 실행해 본다. <BR>\n",
        "먼저 필요한 모듈을 임포트 한다."
      ],
      "metadata": {
        "id": "dqDWa6h-uWX_"
      }
    },
    {
      "cell_type": "code",
      "source": [
        "import numpy as np\n",
        "import matplotlib.pyplot as plt\n",
        "from sklearn import datasets\n",
        "from sklearn.cluster import KMeans"
      ],
      "metadata": {
        "id": "MiUysnmEuiJz"
      },
      "execution_count": 6,
      "outputs": []
    },
    {
      "cell_type": "markdown",
      "source": [
        "붓꽃 데이터를 읽어 온다."
      ],
      "metadata": {
        "id": "zBi_xcErujox"
      }
    },
    {
      "cell_type": "code",
      "source": [
        "# iris 데이터셋을 불러옵니다.\n",
        "iris = datasets.load_iris()\n",
        "data = iris.data"
      ],
      "metadata": {
        "id": "gcmiP6Gtumbf"
      },
      "execution_count": 7,
      "outputs": []
    },
    {
      "cell_type": "markdown",
      "source": [
        "k-means 알고리즘을 적용해 본다."
      ],
      "metadata": {
        "id": "HQUVH_bQupfd"
      }
    },
    {
      "cell_type": "code",
      "source": [
        "# k-means 클러스터링 알고리즘을 적용합니다.\n",
        "kmeans = KMeans(n_clusters=3)\n",
        "kmeans.fit(data)"
      ],
      "metadata": {
        "id": "hRgdqbOjuuj-"
      },
      "execution_count": null,
      "outputs": []
    },
    {
      "cell_type": "markdown",
      "source": [
        "결과를 출력한다."
      ],
      "metadata": {
        "id": "dDJ020znuv8F"
      }
    },
    {
      "cell_type": "code",
      "source": [
        "# 결과를 출력합니다.\n",
        "labels = kmeans.labels_\n",
        "centroids = kmeans.cluster_centers_\n",
        "# 결과를 시각화합니다.\n",
        "plt.scatter(data[:, 0], data[:, 1], c=labels, cmap='viridis', marker='o', s=50)\n",
        "plt.scatter(centroids[:, 0], centroids[:, 1], c='red', marker='x', s=100)\n",
        "plt.title('k-means Clusteting: iris dataset')\n",
        "plt.xlabel(iris.feature_names[0])\n",
        "plt.ylabel(iris.feature_names[1])\n",
        "plt.show()\n"
      ],
      "metadata": {
        "id": "yhlroKd4uxvJ"
      },
      "execution_count": null,
      "outputs": []
    }
  ]
}