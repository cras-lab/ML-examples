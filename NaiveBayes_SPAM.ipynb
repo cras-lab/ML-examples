{
  "nbformat": 4,
  "nbformat_minor": 0,
  "metadata": {
    "colab": {
      "provenance": [],
      "authorship_tag": "ABX9TyNqReR5yFsgndI07EFSTYRh",
      "include_colab_link": true
    },
    "kernelspec": {
      "name": "python3",
      "display_name": "Python 3"
    },
    "language_info": {
      "name": "python"
    }
  },
  "cells": [
    {
      "cell_type": "markdown",
      "metadata": {
        "id": "view-in-github",
        "colab_type": "text"
      },
      "source": [
        "<a href=\"https://colab.research.google.com/github/cras-lab/ML-examples/blob/main/NaiveBayes_SPAM.ipynb\" target=\"_parent\"><img src=\"https://colab.research.google.com/assets/colab-badge.svg\" alt=\"Open In Colab\"/></a>"
      ]
    },
    {
      "cell_type": "markdown",
      "source": [
        "나이브 베이즈를 이용한 스팸 분류 예제<BR>\n",
        "먼저 필요한 모듈을 임포트 한다."
      ],
      "metadata": {
        "id": "F-J2wKfb2JDO"
      }
    },
    {
      "cell_type": "code",
      "source": [
        "from sklearn.feature_extraction.text import CountVectorizer\n",
        "from sklearn.model_selection import train_test_split\n",
        "from sklearn.naive_bayes import MultinomialNB\n",
        "from sklearn.metrics import accuracy_score"
      ],
      "metadata": {
        "id": "1Y6plZOD2QXM"
      },
      "execution_count": 11,
      "outputs": []
    },
    {
      "cell_type": "markdown",
      "source": [
        "스팸 분류를 훈련 시킬 예제 테이블을 정의한다."
      ],
      "metadata": {
        "id": "n6HcaWCB2R4Q"
      }
    },
    {
      "cell_type": "code",
      "source": [
        "# 예제 데이터 (메일 내용과 레이블)\n",
        "\n",
        "corpus = [\n",
        "    (\"Buy our awesome products at discount!\", \"spam\"),\n",
        "    (\"Hello, how are you today?\", \"ham\"),\n",
        "    (\"URGENT: You have won a prize!\", \"spam\"),\n",
        "    (\"Let's meet for coffee later.\", \"ham\"),\n",
        "    (\"Congratulations, you've won a gift card!\", \"spam\"),\n",
        "    (\"What's your plan for the weekend?\", \"ham\"),\n",
        "    (\"Get a loan with no interest!\", \"spam\"),\n",
        "    (\"Can we reschedule our meeting?\", \"ham\"),\n",
        "    (\"Limited time offer: 50% off!\", \"spam\"),\n",
        "    (\"I'll be there by 3 PM.\", \"ham\"),\n",
        "    (\"You're selected for a free trial.\", \"spam\"),\n",
        "    (\"Are you coming to the party?\", \"ham\"),\n",
        "    (\"Claim your prize now!\", \"spam\"),\n",
        "    (\"Can you please send me the report?\", \"ham\"),\n",
        "    (\"Exclusive deal: Buy one, get one free!\", \"spam\"),\n",
        "    (\"Let's go to the park tomorrow.\", \"ham\"),\n",
        "    (\"Important information regarding your account.\", \"spam\"),\n",
        "    (\"What's your favorite movie?\", \"ham\"),\n",
        "    (\"Last chance to save big!\", \"spam\"),\n",
        "    (\"Let's discuss the project details.\", \"ham\"),\n",
        "    (\"Hurry, offer ends soon!\", \"spam\"),\n",
        "    (\"See you at the conference.\", \"ham\"),\n",
        "    (\"Claim your exclusive membership.\", \"spam\"),\n",
        "    (\"Are you available for a call?\", \"ham\"),\n",
        "    (\"Congratulations, you're the lucky winner!\", \"spam\")\n",
        "]"
      ],
      "metadata": {
        "id": "0iXDo5I02Vjg"
      },
      "execution_count": 12,
      "outputs": []
    },
    {
      "cell_type": "markdown",
      "source": [
        "데이터와 테이브를 분리한다.<BR>\n",
        "X = [email for email, label in corpus]\n",
        "corpus 문장을 email, label로 구분하여, email 부분으로 리스트 생성<BR>\n",
        "y = [label for email, label in corpus]\n",
        "corpus 문장을 email, label로 구분하여, label 부분으로 리스트 생성\n"
      ],
      "metadata": {
        "id": "F_jEFIi92cAR"
      }
    },
    {
      "cell_type": "code",
      "source": [
        "# 데이터와 레이블 분리\n",
        "X = [email for email, label in corpus]\n",
        "y = [label for email, label in corpus]"
      ],
      "metadata": {
        "id": "zAgib0hr6yK2"
      },
      "execution_count": 13,
      "outputs": []
    },
    {
      "cell_type": "markdown",
      "source": [
        "연산을 위해 모든 텍스트를 벡터로 바꾼다."
      ],
      "metadata": {
        "id": "rZOZeC4q63oa"
      }
    },
    {
      "cell_type": "code",
      "source": [
        "# 텍스트 데이터를 벡터로 변환\n",
        "vectorizer = CountVectorizer()  # Count 기반으로 단어 주머니(BOW, BagOfWords) 생성\n",
        "X_vectorized = vectorizer.fit_transform(X)  # 훈련데이터에만 사용. 평균과 분산을 분석후 정규화(평균 0, 분산1)"
      ],
      "metadata": {
        "id": "Qahi3sBD68iA"
      },
      "execution_count": 14,
      "outputs": []
    },
    {
      "cell_type": "markdown",
      "source": [
        "데이터를 8:2로 분할한다."
      ],
      "metadata": {
        "id": "YIvRkuUj7ofe"
      }
    },
    {
      "cell_type": "code",
      "source": [
        "# 데이터 분할\n",
        "X_train, X_test, y_train, y_test = train_test_split(X_vectorized, y, test_size=0.2, random_state=42)"
      ],
      "metadata": {
        "id": "5cxR3dye7qkP"
      },
      "execution_count": 15,
      "outputs": []
    },
    {
      "cell_type": "markdown",
      "source": [
        "나이브 베이즈 분류기를 생성한다."
      ],
      "metadata": {
        "id": "0HovRuie7saF"
      }
    },
    {
      "cell_type": "code",
      "source": [
        "# 나이브 베이즈 분류기 생성\n",
        "nb_classifier = MultinomialNB()"
      ],
      "metadata": {
        "id": "zilcjvH27uFr"
      },
      "execution_count": 16,
      "outputs": []
    },
    {
      "cell_type": "markdown",
      "source": [
        "모델을 학습시킨다."
      ],
      "metadata": {
        "id": "_IQFvuhz71Ym"
      }
    },
    {
      "cell_type": "code",
      "source": [
        "# 모델 학습\n",
        "nb_classifier.fit(X_train, y_train)"
      ],
      "metadata": {
        "id": "Qg5BCMnz73yt"
      },
      "execution_count": null,
      "outputs": []
    },
    {
      "cell_type": "markdown",
      "source": [
        "테스트 데이터를 상대로 예측을 수행한다"
      ],
      "metadata": {
        "id": "qNI95Al276Lw"
      }
    },
    {
      "cell_type": "code",
      "source": [
        "# 테스트 데이터 예측\n",
        "y_pred = nb_classifier.predict(X_test)"
      ],
      "metadata": {
        "id": "qtzHvPp38Nbh"
      },
      "execution_count": 18,
      "outputs": []
    },
    {
      "cell_type": "markdown",
      "source": [
        "정확도를 출력해 본다."
      ],
      "metadata": {
        "id": "ozG5K6cP8PFN"
      }
    },
    {
      "cell_type": "code",
      "source": [
        "# 정확도 평가\n",
        "accuracy = accuracy_score(y_test, y_pred)\n",
        "print(\"Accuracy:\", accuracy)\n"
      ],
      "metadata": {
        "colab": {
          "base_uri": "https://localhost:8080/"
        },
        "id": "3ln4eCCE8RMw",
        "outputId": "5014a155-fedd-46a8-8767-606a0645847d"
      },
      "execution_count": 19,
      "outputs": [
        {
          "output_type": "stream",
          "name": "stdout",
          "text": [
            "Accuracy: 0.8\n"
          ]
        }
      ]
    }
  ]
}