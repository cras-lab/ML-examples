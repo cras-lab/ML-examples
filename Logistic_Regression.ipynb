{
  "nbformat": 4,
  "nbformat_minor": 0,
  "metadata": {
    "colab": {
      "provenance": [],
      "authorship_tag": "ABX9TyOWxO4zdBIt4Nmd6Xu43QUA",
      "include_colab_link": true
    },
    "kernelspec": {
      "name": "python3",
      "display_name": "Python 3"
    },
    "language_info": {
      "name": "python"
    }
  },
  "cells": [
    {
      "cell_type": "markdown",
      "metadata": {
        "id": "view-in-github",
        "colab_type": "text"
      },
      "source": [
        "<a href=\"https://colab.research.google.com/github/cras-lab/ML-examples/blob/main/Logistic_Regression.ipynb\" target=\"_parent\"><img src=\"https://colab.research.google.com/assets/colab-badge.svg\" alt=\"Open In Colab\"/></a>"
      ]
    },
    {
      "cell_type": "markdown",
      "source": [
        "Logistic 회귀를 이용하여 붓꽃 분류<BR>\n",
        "필요한 모듈을 임포트 한다."
      ],
      "metadata": {
        "id": "6rVfsz_Mkh_V"
      }
    },
    {
      "cell_type": "code",
      "source": [
        "import numpy as np\n",
        "import matplotlib.pyplot as plt\n",
        "from sklearn.datasets import load_iris\n",
        "from sklearn.model_selection import train_test_split\n",
        "from sklearn.linear_model import LogisticRegression\n",
        "from sklearn.metrics import accuracy_score"
      ],
      "metadata": {
        "id": "jxNkTjG7krmA"
      },
      "execution_count": 7,
      "outputs": []
    },
    {
      "cell_type": "markdown",
      "source": [
        "데이터를 로드 한다."
      ],
      "metadata": {
        "id": "pial_GWFkuij"
      }
    },
    {
      "cell_type": "code",
      "source": [
        "# 데이터 로드\n",
        "iris = load_iris()\n",
        "X = iris.data\n",
        "y = iris.target"
      ],
      "metadata": {
        "id": "_HbVHpDTkwSI"
      },
      "execution_count": 8,
      "outputs": []
    },
    {
      "cell_type": "markdown",
      "source": [
        "데이터를 8:2로 분할한다."
      ],
      "metadata": {
        "id": "QKB0PoUskxiR"
      }
    },
    {
      "cell_type": "code",
      "source": [
        "# 데이터 분할\n",
        "X_train, X_test, y_train, y_test = train_test_split(X, y, test_size=0.2, random_state=42)"
      ],
      "metadata": {
        "id": "HbEa5-utk1FS"
      },
      "execution_count": 9,
      "outputs": []
    },
    {
      "cell_type": "markdown",
      "source": [
        "로지스틱 회귀 모델을 생성한다."
      ],
      "metadata": {
        "id": "UWmPrpNtk3YV"
      }
    },
    {
      "cell_type": "code",
      "source": [
        "# 로지스틱 회귀 모델 생성\n",
        "model = LogisticRegression(multi_class='multinomial', solver='lbfgs', max_iter=300)"
      ],
      "metadata": {
        "id": "m_Tr6oNwk5aL"
      },
      "execution_count": 10,
      "outputs": []
    },
    {
      "cell_type": "markdown",
      "source": [
        "모델을 학습시킨다."
      ],
      "metadata": {
        "id": "bNE85bx2k7Rf"
      }
    },
    {
      "cell_type": "code",
      "source": [
        "# 모델 학습\n",
        "model.fit(X_train, y_train)"
      ],
      "metadata": {
        "id": "60u5o5qlk8uF"
      },
      "execution_count": null,
      "outputs": []
    },
    {
      "cell_type": "markdown",
      "source": [
        "테스트 집합을 대상으로 예측한다."
      ],
      "metadata": {
        "id": "ZFuEVkVvk_F3"
      }
    },
    {
      "cell_type": "code",
      "source": [
        "# 예측\n",
        "y_pred = model.predict(X_test)"
      ],
      "metadata": {
        "id": "zu1yESPOlBls"
      },
      "execution_count": 12,
      "outputs": []
    },
    {
      "cell_type": "markdown",
      "source": [
        "정확도를 평가해 본다."
      ],
      "metadata": {
        "id": "sMd-jEhblErI"
      }
    },
    {
      "cell_type": "code",
      "execution_count": null,
      "metadata": {
        "id": "T-NhGNNqcNOY"
      },
      "outputs": [],
      "source": [
        "# 정확도 평가\n",
        "accuracy = accuracy_score(y_test, y_pred)\n",
        "print(f\"Accuracy: {accuracy:.2f}\")\n"
      ]
    }
  ]
}