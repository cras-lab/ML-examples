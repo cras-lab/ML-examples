{
  "nbformat": 4,
  "nbformat_minor": 0,
  "metadata": {
    "colab": {
      "provenance": [],
      "authorship_tag": "ABX9TyPwMf/2GB/CLFbJtXIMo1WK",
      "include_colab_link": true
    },
    "kernelspec": {
      "name": "python3",
      "display_name": "Python 3"
    },
    "language_info": {
      "name": "python"
    }
  },
  "cells": [
    {
      "cell_type": "markdown",
      "metadata": {
        "id": "view-in-github",
        "colab_type": "text"
      },
      "source": [
        "<a href=\"https://colab.research.google.com/github/cras-lab/ML-examples/blob/main/Logistic_Regression.ipynb\" target=\"_parent\"><img src=\"https://colab.research.google.com/assets/colab-badge.svg\" alt=\"Open In Colab\"/></a>"
      ]
    },
    {
      "cell_type": "markdown",
      "source": [
        "Logistic 회귀를 이용하여 붓꽃 분류<BR>\n",
        "필요한 모듈을 임포트 한다."
      ],
      "metadata": {
        "id": "6rVfsz_Mkh_V"
      }
    },
    {
      "cell_type": "code",
      "source": [
        "import numpy as np\n",
        "import matplotlib.pyplot as plt\n",
        "from sklearn.datasets import load_iris\n",
        "from sklearn.model_selection import train_test_split\n",
        "from sklearn.linear_model import LogisticRegression\n",
        "from sklearn.metrics import accuracy_score"
      ],
      "metadata": {
        "id": "jxNkTjG7krmA"
      },
      "execution_count": 2,
      "outputs": []
    },
    {
      "cell_type": "markdown",
      "source": [
        "데이터를 로드 한다."
      ],
      "metadata": {
        "id": "pial_GWFkuij"
      }
    },
    {
      "cell_type": "code",
      "source": [
        "# 데이터 로드\n",
        "iris = load_iris()\n",
        "X = iris.data\n",
        "y = iris.target"
      ],
      "metadata": {
        "id": "_HbVHpDTkwSI"
      },
      "execution_count": 3,
      "outputs": []
    },
    {
      "cell_type": "markdown",
      "source": [
        "특징과 목표값이 각각 무엇인지 출력해 본다."
      ],
      "metadata": {
        "id": "9Yzco03A-ChD"
      }
    },
    {
      "cell_type": "code",
      "source": [
        "print(iris.feature_names)\n",
        "print(iris.target_names)"
      ],
      "metadata": {
        "id": "kSEw7RHsyxJu",
        "outputId": "a00cf2f7-bda0-4a03-bd9f-dc3286f3c8e5",
        "colab": {
          "base_uri": "https://localhost:8080/"
        }
      },
      "execution_count": 4,
      "outputs": [
        {
          "output_type": "stream",
          "name": "stdout",
          "text": [
            "['sepal length (cm)', 'sepal width (cm)', 'petal length (cm)', 'petal width (cm)']\n",
            "['setosa' 'versicolor' 'virginica']\n"
          ]
        }
      ]
    },
    {
      "cell_type": "markdown",
      "source": [
        "이제 각각을 도식화 하여, 어떻게 생겼는지 살펴보자. 모두 4차원(꽃잎 너비와 길이, 꽃받침 너비와 길이)이므로, 그 중 앞의 3개 값만 뽑아서 그려보자."
      ],
      "metadata": {
        "id": "EUWsypyjAY17"
      }
    },
    {
      "cell_type": "code",
      "source": [
        "\n",
        "fig = plt.figure()\n",
        "ax = fig.add_subplot(111, projection='3d')\n",
        "\n",
        "sepal = iris.data[:, 0:2]\n",
        "petal = iris.data[:, 2]\n",
        "kind = iris.target\n",
        "\n",
        "ax.set_xlabel('Sepal Length')\n",
        "ax.set_ylabel('Sepal Width')\n",
        "ax.set_zlabel('Petal Length')\n",
        "\n",
        "ax.plot(sepal[kind==0][:,0], sepal[kind==0][:,1], petal[kind==0],  \"ro\", label='Setosa')\n",
        "ax.plot(sepal[kind==1][:,0], sepal[kind==1][:,1], petal[kind==1], \"bo\", label='Versicolor')\n",
        "ax.plot(sepal[kind==2][:,0], sepal[kind==2][:,1], petal[kind==2], \"yo\", label='Virginica')\n",
        "\n",
        "ax.legend()\n",
        "plt.show()"
      ],
      "metadata": {
        "id": "ARh5BfW0y_cW"
      },
      "execution_count": null,
      "outputs": []
    },
    {
      "cell_type": "markdown",
      "source": [
        "이제, 꽃잎 길이만 별도로 도식화 해보자."
      ],
      "metadata": {
        "id": "MJrNaJ-PApFx"
      }
    },
    {
      "cell_type": "code",
      "source": [
        "plt.scatter(X[:,0], y)"
      ],
      "metadata": {
        "id": "l8kxHDXrwj6F"
      },
      "execution_count": null,
      "outputs": []
    },
    {
      "cell_type": "markdown",
      "source": [
        "데이터를 8:2로 분할한다."
      ],
      "metadata": {
        "id": "QKB0PoUskxiR"
      }
    },
    {
      "cell_type": "code",
      "source": [
        "# 데이터 분할\n",
        "X_train, X_test, y_train, y_test = train_test_split(X, y, test_size=0.2, random_state=50)"
      ],
      "metadata": {
        "id": "HbEa5-utk1FS"
      },
      "execution_count": 12,
      "outputs": []
    },
    {
      "cell_type": "markdown",
      "source": [
        "로지스틱 회귀 모델을 생성한다."
      ],
      "metadata": {
        "id": "UWmPrpNtk3YV"
      }
    },
    {
      "cell_type": "code",
      "source": [
        "# 로지스틱 회귀 모델 생성\n",
        "model = LogisticRegression(multi_class='multinomial', solver='lbfgs', max_iter=300)"
      ],
      "metadata": {
        "id": "m_Tr6oNwk5aL"
      },
      "execution_count": 13,
      "outputs": []
    },
    {
      "cell_type": "markdown",
      "source": [
        "모델을 학습시킨다."
      ],
      "metadata": {
        "id": "bNE85bx2k7Rf"
      }
    },
    {
      "cell_type": "code",
      "source": [
        "# 모델 학습\n",
        "model.fit(X_train, y_train)"
      ],
      "metadata": {
        "id": "60u5o5qlk8uF"
      },
      "execution_count": null,
      "outputs": []
    },
    {
      "cell_type": "markdown",
      "source": [
        "테스트 집합을 대상으로 예측한다."
      ],
      "metadata": {
        "id": "ZFuEVkVvk_F3"
      }
    },
    {
      "cell_type": "code",
      "source": [
        "# 예측\n",
        "y_pred = model.predict(X_test)"
      ],
      "metadata": {
        "id": "zu1yESPOlBls"
      },
      "execution_count": 15,
      "outputs": []
    },
    {
      "cell_type": "markdown",
      "source": [
        "정확도를 평가해 본다."
      ],
      "metadata": {
        "id": "sMd-jEhblErI"
      }
    },
    {
      "cell_type": "code",
      "execution_count": 16,
      "metadata": {
        "id": "T-NhGNNqcNOY",
        "outputId": "4097c1e6-8e29-42a8-de95-23e2aaedf5c2",
        "colab": {
          "base_uri": "https://localhost:8080/"
        }
      },
      "outputs": [
        {
          "output_type": "stream",
          "name": "stdout",
          "text": [
            "Accuracy: 0.97\n"
          ]
        }
      ],
      "source": [
        "# 정확도 평가\n",
        "accuracy = accuracy_score(y_test, y_pred)\n",
        "print(f\"Accuracy: {accuracy:.2f}\")"
      ]
    }
  ]
}