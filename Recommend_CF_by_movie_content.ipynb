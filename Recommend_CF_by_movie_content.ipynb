{
  "nbformat": 4,
  "nbformat_minor": 0,
  "metadata": {
    "colab": {
      "provenance": [],
      "authorship_tag": "ABX9TyOqEBoCWaAkdZf5BpExOtWc",
      "include_colab_link": true
    },
    "kernelspec": {
      "name": "python3",
      "display_name": "Python 3"
    },
    "language_info": {
      "name": "python"
    }
  },
  "cells": [
    {
      "cell_type": "markdown",
      "metadata": {
        "id": "view-in-github",
        "colab_type": "text"
      },
      "source": [
        "<a href=\"https://colab.research.google.com/github/cras-lab/ML-examples/blob/main/Recommend_CF_by_movie_content.ipynb\" target=\"_parent\"><img src=\"https://colab.research.google.com/assets/colab-badge.svg\" alt=\"Open In Colab\"/></a>"
      ]
    },
    {
      "cell_type": "markdown",
      "source": [
        "영화의 유사도에 따른 추천 예제<BR>\n",
        "우선 필요한 모듈을 임포트 한다."
      ],
      "metadata": {
        "id": "PAcz3jXpuF-j"
      }
    },
    {
      "cell_type": "code",
      "source": [
        "import numpy as np\n",
        "from sklearn.metrics.pairwise import cosine_similarity"
      ],
      "metadata": {
        "id": "AnqLCZgbuY_5"
      },
      "execution_count": 3,
      "outputs": []
    },
    {
      "cell_type": "markdown",
      "source": [
        "가상의 영화 데이터를 구성한다."
      ],
      "metadata": {
        "id": "l7ocJomxuZgs"
      }
    },
    {
      "cell_type": "code",
      "source": [
        "# 영화 장르 데이터\n",
        "movie_genres = {\n",
        "    'movie1': [0.2, 0.4, 0.1, 0.9],  # 장르 특성 벡터 (예: 액션, 드라마, 코미디, 스릴러)\n",
        "    'movie2': [0.1, 0.5, 0.8, 0.2],\n",
        "    'movie3': [0.8, 0.2, 0.3, 0.5]\n",
        "}"
      ],
      "metadata": {
        "id": "Jz55pj27ugRA"
      },
      "execution_count": 4,
      "outputs": []
    },
    {
      "cell_type": "markdown",
      "source": [
        "대상자가 좋아하는 영화에 대한 가상의 데이터를 생성한다."
      ],
      "metadata": {
        "id": "_BPsVrMyuiD4"
      }
    },
    {
      "cell_type": "code",
      "source": [
        "# 대상 사용자가 좋아하는 장르\n",
        "target_user_genres = [0.3, 0.2, 0.4, 0.7]  # 예: 대상 사용자의 장르 취향"
      ],
      "metadata": {
        "id": "IUl-4wzLumVC"
      },
      "execution_count": 5,
      "outputs": []
    },
    {
      "cell_type": "markdown",
      "source": [
        "코사인 유사도를 계산하여, 가장 유사한 영화를 찾는다.<BR>\n",
        "각 영화별로 유사도를 출력해 본다."
      ],
      "metadata": {
        "id": "XOPMZhyGupon"
      }
    },
    {
      "cell_type": "code",
      "source": [
        "# 영화 추천 계산\n",
        "recommendations = {}\n",
        "for movie, genre in movie_genres.items():\n",
        "    similarity = cosine_similarity([target_user_genres], [genre])[0][0]\n",
        "    recommendations[movie] = similarity\n",
        "    print( f\"{movie}와의 유사도는 {similarity}\")"
      ],
      "metadata": {
        "id": "SrMuRFnuutp6"
      },
      "execution_count": null,
      "outputs": []
    },
    {
      "cell_type": "markdown",
      "source": [
        "추천 결과를 유사도가 높은 순으로 정렬한다."
      ],
      "metadata": {
        "id": "zh7keJRmu0cF"
      }
    },
    {
      "cell_type": "code",
      "source": [
        "# 추천 결과를 유사도 높은 순으로 정렬\n",
        "sorted_recommendations = sorted(recommendations.items(), key=lambda x: x[1], reverse=True)"
      ],
      "metadata": {
        "id": "ExZnwfdZu3o7"
      },
      "execution_count": 7,
      "outputs": []
    },
    {
      "cell_type": "markdown",
      "source": [
        "유사도가 높은 순서대로 상위 N개 영화를 추천한다."
      ],
      "metadata": {
        "id": "CJNydQanu5Dv"
      }
    },
    {
      "cell_type": "code",
      "source": [
        "# 상위 N개의 영화를 추천\n",
        "num_recommendations = 2\n",
        "recommended_movies = [movie for movie, _ in sorted_recommendations[:num_recommendations]]"
      ],
      "metadata": {
        "id": "BNPItc4Xu-jc"
      },
      "execution_count": 8,
      "outputs": []
    },
    {
      "cell_type": "markdown",
      "source": [
        "추천돤 영화를 출력해 본다."
      ],
      "metadata": {
        "id": "LqySM9YavArR"
      }
    },
    {
      "cell_type": "code",
      "source": [
        "print(f\"추천 영화: {recommended_movies}\")"
      ],
      "metadata": {
        "id": "sa7MugmLvDjX"
      },
      "execution_count": null,
      "outputs": []
    }
  ]
}