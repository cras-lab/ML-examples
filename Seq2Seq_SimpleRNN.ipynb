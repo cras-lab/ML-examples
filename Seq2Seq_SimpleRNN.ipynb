{
  "nbformat": 4,
  "nbformat_minor": 0,
  "metadata": {
    "colab": {
      "provenance": [],
      "authorship_tag": "ABX9TyNTi2Zvrgy8f2VAvucOChlE",
      "include_colab_link": true
    },
    "kernelspec": {
      "name": "python3",
      "display_name": "Python 3"
    },
    "language_info": {
      "name": "python"
    }
  },
  "cells": [
    {
      "cell_type": "markdown",
      "metadata": {
        "id": "view-in-github",
        "colab_type": "text"
      },
      "source": [
        "<a href=\"https://colab.research.google.com/github/cras-lab/ML-examples/blob/main/Seq2Seq_SimpleRNN.ipynb\" target=\"_parent\"><img src=\"https://colab.research.google.com/assets/colab-badge.svg\" alt=\"Open In Colab\"/></a>"
      ]
    },
    {
      "cell_type": "markdown",
      "source": [
        "SimpleRNN을 이용한 Seq2Seq Example<BR>\n",
        "먼저 필요한 모듈을 임포트 한다."
      ],
      "metadata": {
        "id": "Cqp7aYU3OObp"
      }
    },
    {
      "cell_type": "code",
      "source": [
        "import numpy as np\n",
        "import matplotlib.pyplot as plt"
      ],
      "metadata": {
        "id": "MejKnvyy7nfx"
      },
      "execution_count": 1,
      "outputs": []
    },
    {
      "cell_type": "markdown",
      "source": [
        "먼저 사인 그래프를 생성한다. X축은 균일한 200개 점으로 나누고, 각 점에서의 y 값을 기록한다."
      ],
      "metadata": {
        "id": "Mn-3dEHrOnjY"
      }
    },
    {
      "cell_type": "code",
      "source": [
        "X_train = np.arange(0,100,0.5) # 0과 100사이를 0.5 간격으로 균일하게 생성\n",
        "y_train = np.sin(X_train)\n",
        "\n",
        "X_test = np.arange(100,200,0.5)\n",
        "y_test = np.sin(X_test)"
      ],
      "metadata": {
        "id": "fyPySe7UOxZ2"
      },
      "execution_count": 2,
      "outputs": []
    },
    {
      "cell_type": "markdown",
      "source": [
        "특징의 개수는 X 입력 값 하나이다."
      ],
      "metadata": {
        "id": "Awl_M2_8O3M2"
      }
    },
    {
      "cell_type": "code",
      "source": [
        "n_features = 1"
      ],
      "metadata": {
        "id": "0ezMpixlO8vG"
      },
      "execution_count": 3,
      "outputs": []
    },
    {
      "cell_type": "markdown",
      "source": [
        "연산을 위해 행렬 모양을 변형한다."
      ],
      "metadata": {
        "id": "vqUh91eUO_X3"
      }
    },
    {
      "cell_type": "code",
      "source": [
        "#가로 벡터를 세로 벡터로 모양을 변경한다. (1, n) ==> (n, 1)\n",
        "train_series = y_train.reshape( (len(y_train,), n_features) )\n",
        "test_series = y_test.reshape( (len(y_test), n_features) )"
      ],
      "metadata": {
        "id": "S61OK7q175kd"
      },
      "execution_count": 4,
      "outputs": []
    },
    {
      "cell_type": "markdown",
      "source": [
        "훈련 데이터와 테스트 데이터가 잘 생성되었는지 사인 그래프를 그려본다."
      ],
      "metadata": {
        "id": "4N8wUN0GPFCy"
      }
    },
    {
      "cell_type": "code",
      "source": [
        "fig, ax = plt.subplots( 1,1, figsize=(15,4))\n",
        "ax.plot( X_train, y_train, lw=3, label=\"train_data\")\n",
        "ax.plot( X_test, y_test, lw=3, label=\"test data\")\n",
        "ax.legend( loc=\"lower left\")\n",
        "plt.show()"
      ],
      "metadata": {
        "id": "maEwt3aG8paM"
      },
      "execution_count": null,
      "outputs": []
    },
    {
      "cell_type": "markdown",
      "source": [
        "TimeSeriesGenerator는 시계열 데이터 처리를 쉽게하기 위한 구조로 자동변환"
      ],
      "metadata": {
        "id": "gXTYqdnZbiWG"
      }
    },
    {
      "cell_type": "code",
      "source": [
        "from keras.preprocessing.sequence import TimeseriesGenerator\n",
        "look_back = 20  # 입력으로 20개 점을 본다.\n",
        "\n",
        "train_generator = TimeseriesGenerator( train_series, train_series,\n",
        "                                      length=look_back,\n",
        "                                      batch_size=10)\n",
        "\n",
        "test_generator = TimeseriesGenerator( test_series, test_series,\n",
        "                                     length=look_back,\n",
        "                                     batch_size=10)"
      ],
      "metadata": {
        "id": "TcNlC1Ekb3pi"
      },
      "execution_count": 6,
      "outputs": []
    },
    {
      "cell_type": "markdown",
      "source": [
        "KERAS에서 SimpleRNN 신경망을 불러온다."
      ],
      "metadata": {
        "id": "qWK2V4oNdE0a"
      }
    },
    {
      "cell_type": "code",
      "source": [
        "from keras.models import Sequential\n",
        "from keras.layers import Dense, SimpleRNN"
      ],
      "metadata": {
        "id": "IL2SxX9FdHfW"
      },
      "execution_count": 7,
      "outputs": []
    },
    {
      "cell_type": "markdown",
      "source": [
        "뉴런의 개수를 비롯해 신경망의 구조에 대한 기본 설정 값을 정한다."
      ],
      "metadata": {
        "id": "65dF2wx2BDaY"
      }
    },
    {
      "cell_type": "code",
      "source": [
        "n_neurons = 4 # 뉴런의 개수는 4개로 지정\n",
        "model = Sequential()\n",
        "model.add( SimpleRNN( n_neurons, input_shape=(look_back, n_features)))\n",
        "model.add( Dense(1)) # 출력이 1\n",
        "model.compile( optimizer='adam', loss='mse') #최적기는 adam, 손실함수는 MSE"
      ],
      "metadata": {
        "id": "GdY-1NKbBSWa"
      },
      "execution_count": 8,
      "outputs": []
    },
    {
      "cell_type": "markdown",
      "source": [
        "신경망을 적합화 한다."
      ],
      "metadata": {
        "id": "otbdllD5BWKK"
      }
    },
    {
      "cell_type": "code",
      "source": [
        "model.fit( train_generator, epochs=100, verbose=1 ) #적합화 하는 에폭은 100회로 설정한다."
      ],
      "metadata": {
        "id": "AiEL-gm2BX1S"
      },
      "execution_count": null,
      "outputs": []
    },
    {
      "cell_type": "markdown",
      "source": [
        "적합화 된 모델을 사용해 예측을 수행해 본다. 예측된 값은 test_prediction에 저장한다."
      ],
      "metadata": {
        "id": "T-Z_6vO1Bc6u"
      }
    },
    {
      "cell_type": "code",
      "source": [
        "test_prediction = model.predict( test_generator )"
      ],
      "metadata": {
        "colab": {
          "base_uri": "https://localhost:8080/"
        },
        "id": "cz4eS_BbBo_8",
        "outputId": "fbb525f5-ae27-48d3-ee82-3280c9189425"
      },
      "execution_count": 10,
      "outputs": [
        {
          "output_type": "stream",
          "name": "stdout",
          "text": [
            "18/18 [==============================] - 0s 3ms/step\n"
          ]
        }
      ]
    },
    {
      "cell_type": "markdown",
      "source": [
        "예측한 값을 테스트 데이터 위에 점으로 도식화 하여, 결과가 잘 수행되었는지 확인해 본다."
      ],
      "metadata": {
        "id": "mo8D0fhhCXeU"
      }
    },
    {
      "cell_type": "code",
      "source": [
        "x = np.arange( 110,200, 0.5)\n",
        "\n",
        "fig, ax = plt.subplots( 1,1, figsize= (15,5 ))\n",
        "ax.plot( X_train, y_train, lw=2, label='train_data')\n",
        "ax.plot( X_test, y_test, lw=3, c='y', label='test_data')\n",
        "ax.plot( x, test_prediction, lw=3, c='r', linestyle=':' , label = 'predictions')\n",
        "ax.legend( loc='lower left')\n",
        "plt.show()"
      ],
      "metadata": {
        "id": "6_9wxVfFd0WW"
      },
      "execution_count": null,
      "outputs": []
    }
  ]
}