{
  "nbformat": 4,
  "nbformat_minor": 0,
  "metadata": {
    "colab": {
      "provenance": [],
      "authorship_tag": "ABX9TyM8+pEaTi3SDx7AN6CbO67s",
      "include_colab_link": true
    },
    "kernelspec": {
      "name": "python3",
      "display_name": "Python 3"
    },
    "language_info": {
      "name": "python"
    }
  },
  "cells": [
    {
      "cell_type": "markdown",
      "metadata": {
        "id": "view-in-github",
        "colab_type": "text"
      },
      "source": [
        "<a href=\"https://colab.research.google.com/github/cras-lab/ML-examples/blob/main/Recommend_CF_by_Similar_Person.ipynb\" target=\"_parent\"><img src=\"https://colab.research.google.com/assets/colab-badge.svg\" alt=\"Open In Colab\"/></a>"
      ]
    },
    {
      "cell_type": "markdown",
      "source": [
        "협업 필터링 - 비슷한 평점을 내린 사람을 찾은 다음, 그 사람이 본 영화 추천<BR>\n",
        "우선 필요한 모듈을 임포트 한다."
      ],
      "metadata": {
        "id": "Q_V_pnYPbjWh"
      }
    },
    {
      "cell_type": "code",
      "source": [
        "import numpy as np\n",
        "from sklearn.metrics.pairwise import cosine_similarity"
      ],
      "metadata": {
        "id": "D4XLLQ12cDMd"
      },
      "execution_count": 16,
      "outputs": []
    },
    {
      "cell_type": "markdown",
      "source": [
        "데이터를 작성한다. 3명의 영화 평점 목록과 3명의 영화 관람 목록을 임의로 생성"
      ],
      "metadata": {
        "id": "wqu92ce5cDna"
      }
    },
    {
      "cell_type": "code",
      "source": [
        "# 영화 평점 데이터\n",
        "movie_ratings = {\n",
        "    'person1': [0.2, 0.4, 0.1, 0.9],  # 네 영화에 대해 각각 평점을 매긴 것\n",
        "    'person2': [0.1, 0.5, 0.8, 0.2],\n",
        "    'person3': [0.8, 0.2, 0.3, 0.5]\n",
        "}\n",
        "\n",
        "# 영화 관람 데이터\n",
        "movie_list = {\n",
        "    'person1' : [ 'movie1', 'movie2', 'movie3'],\n",
        "    'person2' : [ 'movie1', 'movie2', 'movie4'],\n",
        "    'person3' : [ 'movie1', 'movie3', 'movie5']\n",
        "}"
      ],
      "metadata": {
        "id": "z-AUqKy8cKyE"
      },
      "execution_count": 17,
      "outputs": []
    },
    {
      "cell_type": "markdown",
      "source": [
        "추천하고자 하는 사람의 정보를 생성"
      ],
      "metadata": {
        "id": "4tv6CKFacTHo"
      }
    },
    {
      "cell_type": "code",
      "source": [
        "# 대상 사용자의 ratings\n",
        "target_user_rating = [0.3, 0.2, 0.4, 0.7]  # 예: 대상 사용자의 평점\n",
        "# 대상 사용자의 ratings\n",
        "target_user_movies = ['movie1', 'movie2']  # 예: 대상 사용자의 영화관람"
      ],
      "metadata": {
        "id": "kpfGRLFlcVVT"
      },
      "execution_count": 18,
      "outputs": []
    },
    {
      "cell_type": "markdown",
      "source": [
        "코사인 유사도를 이용해 영화 선호도가 가장 유사한 사람을 찾는다."
      ],
      "metadata": {
        "id": "JD7dKKjCcY6q"
      }
    },
    {
      "cell_type": "code",
      "source": [
        "# 유사한 사람 찾기\n",
        "best_match = 0\n",
        "\n",
        "for person, rating in movie_ratings.items():\n",
        "    similarity = cosine_similarity([target_user_rating], [rating])[0][0]\n",
        "    if similarity > best_match:\n",
        "      best_match = similarity\n",
        "      matching_person = person   # 가장 유사한 사람은  matching_person에 기록\n",
        "    print( f\"{person} 는 유사도가 {similarity}\") # 대상자와 각 사람의 유사도를 출력"
      ],
      "metadata": {
        "id": "kczJarnqcgFk"
      },
      "execution_count": null,
      "outputs": []
    },
    {
      "cell_type": "markdown",
      "source": [
        "추천 목록 생성"
      ],
      "metadata": {
        "id": "ETcf9sgFcuuC"
      }
    },
    {
      "cell_type": "code",
      "source": [
        "recommendations = list( set( movie_list[matching_person]) - set(target_user_movies)  )"
      ],
      "metadata": {
        "id": "h6KkvNF5cwex"
      },
      "execution_count": 20,
      "outputs": []
    },
    {
      "cell_type": "markdown",
      "source": [
        "결과를 출력한다."
      ],
      "metadata": {
        "id": "Lgwu-pbBczlb"
      }
    },
    {
      "cell_type": "code",
      "source": [
        "print( f'가장 매칭되는 사람은, {matching_person}이고 유사도는 {best_match}')\n",
        "print( f'추천영화는 {recommendations}' )"
      ],
      "metadata": {
        "id": "G_0tugY_c1bw"
      },
      "execution_count": null,
      "outputs": []
    }
  ]
}