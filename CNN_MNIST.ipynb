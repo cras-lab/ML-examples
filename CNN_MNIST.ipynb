{
  "nbformat": 4,
  "nbformat_minor": 0,
  "metadata": {
    "colab": {
      "provenance": [],
      "authorship_tag": "ABX9TyM7uD/o5vH2RIeRT61OPDSo",
      "include_colab_link": true
    },
    "kernelspec": {
      "name": "python3",
      "display_name": "Python 3"
    },
    "language_info": {
      "name": "python"
    }
  },
  "cells": [
    {
      "cell_type": "markdown",
      "metadata": {
        "id": "view-in-github",
        "colab_type": "text"
      },
      "source": [
        "<a href=\"https://colab.research.google.com/github/cras-lab/ML-examples/blob/main/CNN_MNIST.ipynb\" target=\"_parent\"><img src=\"https://colab.research.google.com/assets/colab-badge.svg\" alt=\"Open In Colab\"/></a>"
      ]
    },
    {
      "cell_type": "markdown",
      "source": [
        "CNN 계층을 추가한 MNIST 숫자 분류 예제 <BR>\n",
        "필요한 모듈을 임포트 한다."
      ],
      "metadata": {
        "id": "XhNBfkmmqyP_"
      }
    },
    {
      "cell_type": "code",
      "source": [
        "import tensorflow as tf\n",
        "from tensorflow.keras.datasets import mnist\n",
        "from tensorflow.keras.models import Sequential\n",
        "from tensorflow.keras.layers import Conv2D, MaxPooling2D, Flatten, Dense\n",
        "from tensorflow.keras.utils import to_categorical\n",
        "from tensorflow.keras.utils import plot_model"
      ],
      "metadata": {
        "id": "3YpoyMbnq62y"
      },
      "execution_count": 4,
      "outputs": []
    },
    {
      "cell_type": "markdown",
      "source": [
        "mnist 데이터를로드한 다음.크기를 정규화 한다."
      ],
      "metadata": {
        "id": "bB8twoiPq8XL"
      }
    },
    {
      "cell_type": "code",
      "source": [
        "# 데이터 로드 및 전처리\n",
        "(train_images, train_labels), (test_images, test_labels) = mnist.load_data()\n",
        "train_images = train_images.reshape((60000, 28, 28, 1)).astype('float32') / 255\n",
        "test_images = test_images.reshape((10000, 28, 28, 1)).astype('float32') / 255"
      ],
      "metadata": {
        "id": "txDBl9TIrBOp"
      },
      "execution_count": 5,
      "outputs": []
    },
    {
      "cell_type": "markdown",
      "source": [
        "데이타를  범주화 한다."
      ],
      "metadata": {
        "id": "Y62UzFTkrDQK"
      }
    },
    {
      "cell_type": "code",
      "source": [
        "train_labels = to_categorical(train_labels)\n",
        "test_labels = to_categorical(test_labels)"
      ],
      "metadata": {
        "id": "ZL5JZ6AfrJs9"
      },
      "execution_count": 6,
      "outputs": []
    },
    {
      "cell_type": "markdown",
      "source": [
        "CNN 모델을 구성한다."
      ],
      "metadata": {
        "id": "z6_qZbd3rLHv"
      }
    },
    {
      "cell_type": "code",
      "source": [
        "# 모델 구성\n",
        "model = Sequential()\n",
        "model.add(Conv2D(32, (3, 3), activation='relu', input_shape=(28, 28, 1)))\n",
        "model.add(MaxPooling2D((2, 2)))\n",
        "model.add(Conv2D(64, (3, 3), activation='relu'))\n",
        "model.add(MaxPooling2D((2, 2)))\n",
        "model.add(Conv2D(64, (3, 3), activation='relu'))"
      ],
      "metadata": {
        "id": "wv9Q1GLurNvp"
      },
      "execution_count": 7,
      "outputs": []
    },
    {
      "cell_type": "markdown",
      "source": [
        "마지막에 딥 신경망을 구성한다."
      ],
      "metadata": {
        "id": "zohCvuWAraIe"
      }
    },
    {
      "cell_type": "code",
      "source": [
        "model.add(Flatten())\n",
        "model.add(Dense(64, activation='relu'))\n",
        "model.add(Dense(10, activation='softmax'))"
      ],
      "metadata": {
        "id": "O6V1DZxCrg2K"
      },
      "execution_count": 8,
      "outputs": []
    },
    {
      "cell_type": "markdown",
      "source": [
        "모델에 필요한 설정을 한다."
      ],
      "metadata": {
        "id": "SdjkJXigrkSX"
      }
    },
    {
      "cell_type": "code",
      "source": [
        "# 모델 컴파일\n",
        "model.compile(optimizer='adam',\n",
        "              loss='categorical_crossentropy',\n",
        "              metrics=['accuracy'])"
      ],
      "metadata": {
        "id": "34sRey63rmzp"
      },
      "execution_count": 9,
      "outputs": []
    },
    {
      "cell_type": "markdown",
      "source": [
        "모델을 훈련시킨다."
      ],
      "metadata": {
        "id": "KiHUQQdIrqdE"
      }
    },
    {
      "cell_type": "code",
      "source": [
        "# 모델 훈련\n",
        "model.fit(train_images, train_labels, epochs=5, batch_size=64, verbose=2)"
      ],
      "metadata": {
        "id": "N67JTatarsVr"
      },
      "execution_count": null,
      "outputs": []
    },
    {
      "cell_type": "markdown",
      "source": [
        "모델을 평가해 본다."
      ],
      "metadata": {
        "id": "seWE22eirtx4"
      }
    },
    {
      "cell_type": "code",
      "source": [
        "# 모델 평가\n",
        "test_loss, test_acc = model.evaluate(test_images, test_labels, verbose=2)\n",
        "print(\"Test accuracy:\", test_acc)"
      ],
      "metadata": {
        "id": "4Rgjo6LXrvlx"
      },
      "execution_count": null,
      "outputs": []
    },
    {
      "cell_type": "markdown",
      "source": [
        "신경망 전체를 도식화 해 본다."
      ],
      "metadata": {
        "id": "VFXM8t6jrw63"
      }
    },
    {
      "cell_type": "code",
      "source": [
        "\n",
        "plot_model(model, to_file='mnist_model.png', show_shapes=True, show_layer_names=True)"
      ],
      "metadata": {
        "id": "DGoqnWUzrzt9"
      },
      "execution_count": null,
      "outputs": []
    }
  ]
}