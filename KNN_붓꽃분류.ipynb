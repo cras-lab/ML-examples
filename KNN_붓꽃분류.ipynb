{
  "nbformat": 4,
  "nbformat_minor": 0,
  "metadata": {
    "colab": {
      "provenance": [],
      "authorship_tag": "ABX9TyOOvjrtTJHeY1PoHBqmY+Fz",
      "include_colab_link": true
    },
    "kernelspec": {
      "name": "python3",
      "display_name": "Python 3"
    },
    "language_info": {
      "name": "python"
    }
  },
  "cells": [
    {
      "cell_type": "markdown",
      "metadata": {
        "id": "view-in-github",
        "colab_type": "text"
      },
      "source": [
        "<a href=\"https://colab.research.google.com/github/cras-lab/ML-examples/blob/main/KNN_%EB%B6%93%EA%BD%83%EB%B6%84%EB%A5%98.ipynb\" target=\"_parent\"><img src=\"https://colab.research.google.com/assets/colab-badge.svg\" alt=\"Open In Colab\"/></a>"
      ]
    },
    {
      "cell_type": "markdown",
      "source": [
        "Knn 알고리즘을 이용하여, 붓꽃을 분류해 본다.<BR>\n",
        "우선 필요한 모듈을 임포트 한다."
      ],
      "metadata": {
        "id": "R1SzCiVv_ENO"
      }
    },
    {
      "cell_type": "code",
      "source": [
        "import numpy as np\n",
        "import matplotlib.pyplot as plt\n",
        "from sklearn.datasets import load_iris\n",
        "from sklearn.model_selection import train_test_split\n",
        "from sklearn.neighbors import KNeighborsClassifier\n",
        "from sklearn.metrics import accuracy_score"
      ],
      "metadata": {
        "id": "-tUiGmQF_Mdk"
      },
      "execution_count": 1,
      "outputs": []
    },
    {
      "cell_type": "markdown",
      "source": [
        "붓꽃 데이터를 불러온다."
      ],
      "metadata": {
        "id": "nof12IRNBEGG"
      }
    },
    {
      "cell_type": "code",
      "source": [
        "# 데이터 불러오기\n",
        "iris = load_iris()\n",
        "X = iris.data\n",
        "y = iris.target"
      ],
      "metadata": {
        "id": "PK1cA1JABG5u"
      },
      "execution_count": 2,
      "outputs": []
    },
    {
      "cell_type": "markdown",
      "source": [
        "데이터를 8:2로 분할한다."
      ],
      "metadata": {
        "id": "FMScsVRdBI2S"
      }
    },
    {
      "cell_type": "code",
      "source": [
        "# 데이터 분할\n",
        "X_train, X_test, y_train, y_test = train_test_split(X, y, test_size=0.2, random_state=50)"
      ],
      "metadata": {
        "id": "En81t3XDBKvX"
      },
      "execution_count": 8,
      "outputs": []
    },
    {
      "cell_type": "markdown",
      "source": [
        "KNN 분류기를 생성한다."
      ],
      "metadata": {
        "id": "0F-Q9Fl3BOTK"
      }
    },
    {
      "cell_type": "code",
      "source": [
        "# KNN 분류기 생성\n",
        "knn_classifier = KNeighborsClassifier(n_neighbors=3)  # \\ n_neighbors의 디폴트 값은 5"
      ],
      "metadata": {
        "id": "urZfLXO7BRBy"
      },
      "execution_count": 9,
      "outputs": []
    },
    {
      "cell_type": "markdown",
      "source": [
        "모델을 학습시킨다"
      ],
      "metadata": {
        "id": "MPYVHMYzEheP"
      }
    },
    {
      "cell_type": "code",
      "source": [
        "# 모델 학습\n",
        "knn_classifier.fit(X_train, y_train)"
      ],
      "metadata": {
        "id": "zloUd0kSEkUe"
      },
      "execution_count": null,
      "outputs": []
    },
    {
      "cell_type": "markdown",
      "source": [
        "테스트 데이터를 상대로 예측을 수행해 본다."
      ],
      "metadata": {
        "id": "ffAr77IcEliS"
      }
    },
    {
      "cell_type": "code",
      "source": [
        "# 테스트 데이터 예측\n",
        "y_pred = knn_classifier.predict(X_test)"
      ],
      "metadata": {
        "id": "jIlYnDWEEo8g"
      },
      "execution_count": 11,
      "outputs": []
    },
    {
      "cell_type": "markdown",
      "source": [
        "정확도를 평가해 본다."
      ],
      "metadata": {
        "id": "dW2xwwTMEqQN"
      }
    },
    {
      "cell_type": "code",
      "source": [
        "# 정확도 평가\n",
        "accuracy = accuracy_score(y_test, y_pred)\n",
        "print(f'Accuracy:, {accuracy:.3f}')"
      ],
      "metadata": {
        "id": "NPPmYm9PEsNV"
      },
      "execution_count": null,
      "outputs": []
    }
  ]
}