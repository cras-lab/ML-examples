{
  "nbformat": 4,
  "nbformat_minor": 0,
  "metadata": {
    "colab": {
      "provenance": [],
      "authorship_tag": "ABX9TyNLQtSEMz+2OCK9uvGYPkm9",
      "include_colab_link": true
    },
    "kernelspec": {
      "name": "python3",
      "display_name": "Python 3"
    },
    "language_info": {
      "name": "python"
    }
  },
  "cells": [
    {
      "cell_type": "markdown",
      "metadata": {
        "id": "view-in-github",
        "colab_type": "text"
      },
      "source": [
        "<a href=\"https://colab.research.google.com/github/cras-lab/ML-examples/blob/main/LinearRegression.ipynb\" target=\"_parent\"><img src=\"https://colab.research.google.com/assets/colab-badge.svg\" alt=\"Open In Colab\"/></a>"
      ]
    },
    {
      "cell_type": "markdown",
      "source": [
        "필요한 모듈을 임포트 한다."
      ],
      "metadata": {
        "id": "l9JJwSJqAH6u"
      }
    },
    {
      "cell_type": "code",
      "execution_count": 5,
      "metadata": {
        "id": "Rx5NWq8o90Qb"
      },
      "outputs": [],
      "source": [
        "import numpy as np\n",
        "import matplotlib.pyplot as plt\n",
        "from sklearn.linear_model import LinearRegression # 선형 모델 임포트"
      ]
    },
    {
      "cell_type": "markdown",
      "source": [
        "간단히 테스트하기 위한 샘플을 생성한다."
      ],
      "metadata": {
        "id": "qnUHmfQ0ARaV"
      }
    },
    {
      "cell_type": "code",
      "source": [
        "X = np.array( [ [6], [8], [10], [14], [18]] ).reshape(-1,1)\n",
        "y = [7,9,13,17.5,18]"
      ],
      "metadata": {
        "id": "ZUsnNf2AAY58"
      },
      "execution_count": 6,
      "outputs": []
    },
    {
      "cell_type": "markdown",
      "source": [
        "어떤 형태인지 시각화 하기 위해 생성된 점들의 산포도를 그려 본다."
      ],
      "metadata": {
        "id": "h9gc6SVJAcoX"
      }
    },
    {
      "cell_type": "code",
      "source": [
        "plt.scatter(X, y)"
      ],
      "metadata": {
        "id": "0QiD-3aFAjx6"
      },
      "execution_count": null,
      "outputs": []
    },
    {
      "cell_type": "markdown",
      "source": [
        "선형회귀 모델을 불러와서 적합화를 수행한다."
      ],
      "metadata": {
        "id": "6erNWEUjAm5S"
      }
    },
    {
      "cell_type": "code",
      "source": [
        "model = LinearRegression()\n",
        "model.fit(X,y)\t\t# 모델 적합화"
      ],
      "metadata": {
        "id": "FOI_Sg-xAvLQ"
      },
      "execution_count": null,
      "outputs": []
    },
    {
      "cell_type": "markdown",
      "source": [
        "구해진 기울기와 절편을 출력해 본다."
      ],
      "metadata": {
        "id": "a4Tlf87IAy0G"
      }
    },
    {
      "cell_type": "code",
      "source": [
        "slope = model.coef_[0]\n",
        "intercept = model.intercept_\n",
        "print(\"기울기: \", slope )\n",
        "print(\"절편: \", intercept )"
      ],
      "metadata": {
        "id": "4B7DCOXCA3Wr"
      },
      "execution_count": null,
      "outputs": []
    }
  ]
}