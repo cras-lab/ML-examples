{
  "nbformat": 4,
  "nbformat_minor": 0,
  "metadata": {
    "colab": {
      "provenance": [],
      "authorship_tag": "ABX9TyO9WHXLABF2+KJE244fhgcy",
      "include_colab_link": true
    },
    "kernelspec": {
      "name": "python3",
      "display_name": "Python 3"
    },
    "language_info": {
      "name": "python"
    }
  },
  "cells": [
    {
      "cell_type": "markdown",
      "metadata": {
        "id": "view-in-github",
        "colab_type": "text"
      },
      "source": [
        "<a href=\"https://colab.research.google.com/github/cras-lab/ML-examples/blob/main/%EB%94%A5%EB%9F%AC%EB%8B%9D%EC%98%88%EC%A0%9C_MNIST.ipynb\" target=\"_parent\"><img src=\"https://colab.research.google.com/assets/colab-badge.svg\" alt=\"Open In Colab\"/></a>"
      ]
    },
    {
      "cell_type": "markdown",
      "source": [
        "텐서플로우로 신경망을 구축 후 숫자 이미지 분류<BR>\n",
        "필요한 모듈을 임포트 한다."
      ],
      "metadata": {
        "id": "o5_by0CMVZzi"
      }
    },
    {
      "cell_type": "code",
      "source": [
        "import tensorflow as tf\n",
        "from tensorflow.keras.datasets import mnist\n",
        "from tensorflow.keras.models import Sequential\n",
        "from tensorflow.keras.layers import Flatten, Dense\n",
        "from tensorflow.keras.utils import to_categorical\n",
        "from tensorflow.keras.utils import plot_model"
      ],
      "metadata": {
        "id": "dVj_oW32WgBb"
      },
      "execution_count": 5,
      "outputs": []
    },
    {
      "cell_type": "markdown",
      "source": [
        "텐서플로우에 내장된 dataset에서 MNIST 데이터를 불러온다."
      ],
      "metadata": {
        "id": "P87Xkd7mWggo"
      }
    },
    {
      "cell_type": "code",
      "source": [
        "# 데이터 불러오기\n",
        "(X_train, y_train), (X_test, y_test) = mnist.load_data()"
      ],
      "metadata": {
        "id": "V0a7zkD_Wlxi"
      },
      "execution_count": 6,
      "outputs": []
    },
    {
      "cell_type": "markdown",
      "source": [
        "데이터를 정규화하고 동시에 범주형으로 만든다."
      ],
      "metadata": {
        "id": "lKUMfCd5WosX"
      }
    },
    {
      "cell_type": "code",
      "source": [
        "# 데이터 전처리\n",
        "X_train = X_train / 255.0\n",
        "X_test = X_test / 255.0\n",
        "\n",
        "y_train = to_categorical(y_train, num_classes=10)\n",
        "y_test = to_categorical(y_test, num_classes=10)"
      ],
      "metadata": {
        "id": "XAwkY4waWsj2"
      },
      "execution_count": 7,
      "outputs": []
    },
    {
      "cell_type": "markdown",
      "source": [
        "신경망 모델을 구성한다. 입력은 786개이고, 16개 뉴런을 가진 2개의 은닉층이 있다. <BR> 마지막은 10개 숫자 중 하나를 맞추는 다중 분류가 된다."
      ],
      "metadata": {
        "id": "ZNI51traWvo4"
      }
    },
    {
      "cell_type": "code",
      "source": [
        "# 신경망 모델 구성\n",
        "model = Sequential([\n",
        "    Flatten(input_shape=(28, 28)),\n",
        "    Dense(16, activation='relu'),\n",
        "    Dense(16, activation='relu'),\n",
        "    Dense(10, activation='softmax')\n",
        "])"
      ],
      "metadata": {
        "id": "fQ_dHNjpW-gD"
      },
      "execution_count": 8,
      "outputs": []
    },
    {
      "cell_type": "markdown",
      "source": [
        "여러 매개변수를 설정한다.<BR>\n",
        "최적기는 Adam으로, 손실함수는 범주형 크로스엔트로피, 척도는 정확도로 설정한다."
      ],
      "metadata": {
        "id": "8E0X7K1hXbG6"
      }
    },
    {
      "cell_type": "code",
      "source": [
        "# 모델 컴파일\n",
        "model.compile(optimizer='adam', loss='categorical_crossentropy', metrics=['accuracy'])"
      ],
      "metadata": {
        "id": "w2FafEL3XkZy"
      },
      "execution_count": 9,
      "outputs": []
    },
    {
      "cell_type": "markdown",
      "source": [
        "모델을 학습시킨다."
      ],
      "metadata": {
        "id": "FjW3g2EEXl9f"
      }
    },
    {
      "cell_type": "code",
      "source": [
        "# 모델 학습\n",
        "model.fit(X_train, y_train, epochs=10, batch_size=32, validation_split=0.2)"
      ],
      "metadata": {
        "id": "uJ1GUMHkXnmI"
      },
      "execution_count": null,
      "outputs": []
    },
    {
      "cell_type": "markdown",
      "source": [
        "모델을 평가해 본다."
      ],
      "metadata": {
        "id": "ui-U9JedaKBr"
      }
    },
    {
      "cell_type": "code",
      "source": [
        "# 모델 평가\n",
        "loss, accuracy = model.evaluate(X_test, y_test)\n",
        "print(f\"Test loss: {loss:.4f}, Test accuracy: {accuracy:.4f}\")"
      ],
      "metadata": {
        "id": "p6twHZfvaMaz"
      },
      "execution_count": null,
      "outputs": []
    },
    {
      "cell_type": "markdown",
      "source": [
        "신경망 구조를 직접 도식화 해 본다."
      ],
      "metadata": {
        "id": "RZdzaqemaOTj"
      }
    },
    {
      "cell_type": "code",
      "execution_count": null,
      "metadata": {
        "id": "OSbbZxgVKZ4X"
      },
      "outputs": [],
      "source": [
        "# 모델 시각화\n",
        "plot_model(model, to_file='mnist_model.png', show_shapes=True, show_layer_names=True)"
      ]
    }
  ]
}