{
  "nbformat": 4,
  "nbformat_minor": 0,
  "metadata": {
    "colab": {
      "provenance": [],
      "authorship_tag": "ABX9TyNoIPLYYFML2gbLw81bp0SA",
      "include_colab_link": true
    },
    "kernelspec": {
      "name": "python3",
      "display_name": "Python 3"
    },
    "language_info": {
      "name": "python"
    }
  },
  "cells": [
    {
      "cell_type": "markdown",
      "metadata": {
        "id": "view-in-github",
        "colab_type": "text"
      },
      "source": [
        "<a href=\"https://colab.research.google.com/github/cras-lab/ML-examples/blob/main/Logistic_Toy_Example.ipynb\" target=\"_parent\"><img src=\"https://colab.research.google.com/assets/colab-badge.svg\" alt=\"Open In Colab\"/></a>"
      ]
    },
    {
      "cell_type": "markdown",
      "source": [
        "Logistic 회귀를 보기 위한 초간단 Examples <BR>\n",
        "우선 필요한 모듈을 임포트 한다."
      ],
      "metadata": {
        "id": "ttgTTdXg6jLj"
      }
    },
    {
      "cell_type": "code",
      "source": [
        "import numpy as np\n",
        "import matplotlib.pyplot as plt\n",
        "from sklearn.model_selection import train_test_split\n",
        "from sklearn.linear_model import LogisticRegression\n",
        "from sklearn.metrics import accuracy_score"
      ],
      "metadata": {
        "id": "26Tpt2Pz6_H8"
      },
      "execution_count": 1,
      "outputs": []
    },
    {
      "cell_type": "markdown",
      "source": [
        "가상의 데이터를 생성한다."
      ],
      "metadata": {
        "id": "FuXO54IA7Bce"
      }
    },
    {
      "cell_type": "code",
      "source": [
        "# 데이터 생성\n",
        "X = np.array([[1.2], [2.4], [3.1], [3.8], [5.0], [6.1], [7.3], [8.2], [9.0], [9.5]])\n",
        "y = np.array([0, 0, 0, 0, 1, 1, 1, 1, 1, 1])"
      ],
      "metadata": {
        "id": "asAqiWBL7IyW"
      },
      "execution_count": 2,
      "outputs": []
    },
    {
      "cell_type": "markdown",
      "source": [
        "생성한 데이터를 시각해 본다."
      ],
      "metadata": {
        "id": "tKwhWG_fv0HN"
      }
    },
    {
      "cell_type": "code",
      "source": [
        "plt.scatter(X,y)"
      ],
      "metadata": {
        "id": "6YgZg2efv3Hi"
      },
      "execution_count": null,
      "outputs": []
    },
    {
      "cell_type": "markdown",
      "source": [
        "데이터를 훈련:테스트 = 7:3으로 분할 한다."
      ],
      "metadata": {
        "id": "ZPhhxnaa7NN-"
      }
    },
    {
      "cell_type": "code",
      "source": [
        "# 데이터 분할\n",
        "X_train, X_test, y_train, y_test = train_test_split(X, y, test_size=0.3, random_state=42)"
      ],
      "metadata": {
        "id": "7zCHbwcO7SMf"
      },
      "execution_count": 3,
      "outputs": []
    },
    {
      "cell_type": "markdown",
      "source": [
        "로지스틱 모델을 생성한다."
      ],
      "metadata": {
        "id": "ay1TDWuw7Th0"
      }
    },
    {
      "cell_type": "code",
      "source": [
        "# 로지스틱 회귀 모델 생성\n",
        "model = LogisticRegression()"
      ],
      "metadata": {
        "id": "jZuBVj1b7XAK"
      },
      "execution_count": 4,
      "outputs": []
    },
    {
      "cell_type": "markdown",
      "source": [
        "모델을 학습시킨다."
      ],
      "metadata": {
        "id": "dOLLds5y7aGk"
      }
    },
    {
      "cell_type": "code",
      "source": [
        "# 로지스틱 회귀 모델 학습\n",
        "model.fit(X_train, y_train)"
      ],
      "metadata": {
        "id": "DxD2pGoq7bt3"
      },
      "execution_count": null,
      "outputs": []
    },
    {
      "cell_type": "markdown",
      "source": [
        "테스트 데이터를 대상으로 예측을 수행 해 본다."
      ],
      "metadata": {
        "id": "J-V7DrTi7f6l"
      }
    },
    {
      "cell_type": "code",
      "source": [
        "# 테스트 데이터 예측\n",
        "y_pred = model.predict(X_test)"
      ],
      "metadata": {
        "id": "SnCpfoT-7h3i"
      },
      "execution_count": 7,
      "outputs": []
    },
    {
      "cell_type": "markdown",
      "source": [
        "정확도를 평가해 본다."
      ],
      "metadata": {
        "id": "4e8Uo7-E7n5h"
      }
    },
    {
      "cell_type": "code",
      "source": [
        "# 정확도 평가\n",
        "accuracy = accuracy_score(y_test, y_pred)\n",
        "print(\"Accuracy:\", accuracy)"
      ],
      "metadata": {
        "id": "q6mPCcK77pUe",
        "outputId": "2600503b-5004-47c6-b488-6689327d21a7",
        "colab": {
          "base_uri": "https://localhost:8080/"
        }
      },
      "execution_count": 8,
      "outputs": [
        {
          "output_type": "stream",
          "name": "stdout",
          "text": [
            "Accuracy: 1.0\n"
          ]
        }
      ]
    },
    {
      "cell_type": "markdown",
      "source": [
        "결정 경계를 시각화 해 본다."
      ],
      "metadata": {
        "id": "bOlQsoE77qw-"
      }
    },
    {
      "cell_type": "code",
      "source": [
        "# 결정 경계 시각화\n",
        "plt.figure()\n",
        "plt.scatter(X, y, c='blue', marker='o', label='Data')\n",
        "plt.plot(X, model.predict_proba(X)[:, 1], color='red', label='Logistic Regression')\n",
        "plt.xlabel('Feature')\n",
        "plt.ylabel('Target')\n",
        "plt.title('Logistic Regression Decision Boundary')\n",
        "plt.legend()\n",
        "plt.show()"
      ],
      "metadata": {
        "id": "RHW8JbAr7tpD"
      },
      "execution_count": null,
      "outputs": []
    }
  ]
}