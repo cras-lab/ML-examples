{
  "nbformat": 4,
  "nbformat_minor": 0,
  "metadata": {
    "colab": {
      "provenance": [],
      "authorship_tag": "ABX9TyPKfcCpFOfTltrQbHTqX83l",
      "include_colab_link": true
    },
    "kernelspec": {
      "name": "python3",
      "display_name": "Python 3"
    },
    "language_info": {
      "name": "python"
    }
  },
  "cells": [
    {
      "cell_type": "markdown",
      "metadata": {
        "id": "view-in-github",
        "colab_type": "text"
      },
      "source": [
        "<a href=\"https://colab.research.google.com/github/cras-lab/ML-examples/blob/main/RandomForest.ipynb\" target=\"_parent\"><img src=\"https://colab.research.google.com/assets/colab-badge.svg\" alt=\"Open In Colab\"/></a>"
      ]
    },
    {
      "cell_type": "markdown",
      "source": [
        "랜덤포레스트를 이용한 앙상블<BR>\n",
        "우선 필요한 모듈을 임포트 한다."
      ],
      "metadata": {
        "id": "DX0bYnlEkRDU"
      }
    },
    {
      "cell_type": "code",
      "source": [
        "import matplotlib.pyplot as plt\n",
        "from sklearn.datasets import load_iris\n",
        "from sklearn.model_selection import train_test_split\n",
        "from sklearn.ensemble import RandomForestClassifier\n",
        "from sklearn.metrics import accuracy_score\n",
        "from sklearn.tree import plot_tree     # 나중에 개별 트리를 출력해 본다."
      ],
      "metadata": {
        "id": "ra3GJrC8kdpw"
      },
      "execution_count": 15,
      "outputs": []
    },
    {
      "cell_type": "markdown",
      "source": [
        "필요한 데이터를 불러온다."
      ],
      "metadata": {
        "id": "Lq4PwvT7kjHS"
      }
    },
    {
      "cell_type": "code",
      "source": [
        "# 데이터 불러오기\n",
        "iris = load_iris()\n",
        "X = iris.data\n",
        "y = iris.target"
      ],
      "metadata": {
        "id": "DJjpYxYrkk_Q"
      },
      "execution_count": 16,
      "outputs": []
    },
    {
      "cell_type": "markdown",
      "source": [
        "데이터를 8:2로 훈련과 테스트로 나눈다."
      ],
      "metadata": {
        "id": "EOYhFXJpkmxM"
      }
    },
    {
      "cell_type": "code",
      "source": [
        "# 데이터 분할\n",
        "X_train, X_test, y_train, y_test = train_test_split(X, y, test_size=0.2, random_state=42)"
      ],
      "metadata": {
        "id": "xovetpgNkqNI"
      },
      "execution_count": 17,
      "outputs": []
    },
    {
      "cell_type": "markdown",
      "source": [
        "랜덤 포레스트 분류기를 생성한다."
      ],
      "metadata": {
        "id": "4GaoKGXOksda"
      }
    },
    {
      "cell_type": "code",
      "source": [
        "# 랜덤 포레스트 모델 생성\n",
        "rf_classifier = RandomForestClassifier(n_estimators=100, random_state=42)  # 모두 100개의 트리를 생성해 본다."
      ],
      "metadata": {
        "id": "TCk7tbaMkvDs"
      },
      "execution_count": 18,
      "outputs": []
    },
    {
      "cell_type": "markdown",
      "source": [
        "랜덤포레스트에 데이터를 전달하여 모델을 학습시킨다."
      ],
      "metadata": {
        "id": "_yf8wwU9kxr3"
      }
    },
    {
      "cell_type": "code",
      "source": [
        "# 모델 학습\n",
        "rf_classifier.fit(X_train, y_train)"
      ],
      "metadata": {
        "id": "T-IQr7Z8k1Kb"
      },
      "execution_count": null,
      "outputs": []
    },
    {
      "cell_type": "markdown",
      "source": [
        "테스트 데이터를 상대로 예측을 수행해 본다."
      ],
      "metadata": {
        "id": "GAsn7MxOlDOa"
      }
    },
    {
      "cell_type": "code",
      "source": [
        "# 테스트 데이터 예측\n",
        "y_pred = rf_classifier.predict(X_test)"
      ],
      "metadata": {
        "id": "py9CefcKlLpI"
      },
      "execution_count": 20,
      "outputs": []
    },
    {
      "cell_type": "markdown",
      "source": [
        "정확도를 평가해 본다."
      ],
      "metadata": {
        "id": "2NiZKY4OlOGB"
      }
    },
    {
      "cell_type": "code",
      "source": [
        "# 정확도 평가\n",
        "accuracy = accuracy_score(y_test, y_pred)\n",
        "print(\"Accuracy:\", accuracy)"
      ],
      "metadata": {
        "colab": {
          "base_uri": "https://localhost:8080/"
        },
        "id": "0l60Uw-tlQnd",
        "outputId": "290309dd-36f4-4e71-a9d8-ce5ea11769a9"
      },
      "execution_count": 21,
      "outputs": [
        {
          "output_type": "stream",
          "name": "stdout",
          "text": [
            "Accuracy: 1.0\n"
          ]
        }
      ]
    },
    {
      "cell_type": "markdown",
      "source": [
        "각 특징의 중요도를 확인해 볼 수 있다."
      ],
      "metadata": {
        "id": "N-ehj2GIlTC8"
      }
    },
    {
      "cell_type": "code",
      "source": [
        "# 특징 중요도 확인\n",
        "feature_importances = rf_classifier.feature_importances_"
      ],
      "metadata": {
        "id": "mgZCeOjalX44"
      },
      "execution_count": 22,
      "outputs": []
    },
    {
      "cell_type": "markdown",
      "source": [
        "특징의 중요도를 이제 시각화 해 보자."
      ],
      "metadata": {
        "id": "YY1ld0JSlacf"
      }
    },
    {
      "cell_type": "code",
      "source": [
        "# 특징 중요도 시각화\n",
        "plt.figure(figsize=(10, 6))\n",
        "plt.barh(range(4), feature_importances, align='center')\n",
        "plt.yticks(range(4), iris.feature_names)\n",
        "plt.xlabel('Feature Importance')\n",
        "plt.ylabel('Feature')\n",
        "plt.show()"
      ],
      "metadata": {
        "id": "ASg0vj0Oldh4"
      },
      "execution_count": null,
      "outputs": []
    },
    {
      "cell_type": "markdown",
      "source": [
        "트리 전체를 도식화 하는 것은 트리가 너무 많으니 힘들다. 그 중 앞의 3개만 도식화 해보자."
      ],
      "metadata": {
        "id": "l6LpHLAxlhzA"
      }
    },
    {
      "cell_type": "code",
      "execution_count": null,
      "metadata": {
        "id": "pU0HfuMwhggK"
      },
      "outputs": [],
      "source": [
        "# 최초 3개 결정 트리 시각화\n",
        "plt.figure(figsize=(20, 10))\n",
        "for i in range(0,3):\n",
        "  plot_tree(rf_classifier.estimators_[0], feature_names=iris.feature_names, class_names=iris.target_names, filled=True)\n",
        "  plt.show()"
      ]
    }
  ]
}