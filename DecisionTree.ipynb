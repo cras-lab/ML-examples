{
  "nbformat": 4,
  "nbformat_minor": 0,
  "metadata": {
    "colab": {
      "provenance": [],
      "authorship_tag": "ABX9TyOHxJAwZ+O53K7YTZx3dlHY",
      "include_colab_link": true
    },
    "kernelspec": {
      "name": "python3",
      "display_name": "Python 3"
    },
    "language_info": {
      "name": "python"
    }
  },
  "cells": [
    {
      "cell_type": "markdown",
      "metadata": {
        "id": "view-in-github",
        "colab_type": "text"
      },
      "source": [
        "<a href=\"https://colab.research.google.com/github/cras-lab/ML-examples/blob/main/DecisionTree.ipynb\" target=\"_parent\"><img src=\"https://colab.research.google.com/assets/colab-badge.svg\" alt=\"Open In Colab\"/></a>"
      ]
    },
    {
      "cell_type": "markdown",
      "source": [
        "scikit-learn의 Tree Classifier를 이용한 분꽃 분류<BR>\n",
        "우선 필요한 모듈을 읽어 온다."
      ],
      "metadata": {
        "id": "goh0V3c9oxgi"
      }
    },
    {
      "cell_type": "code",
      "source": [
        "from sklearn.datasets import load_iris  # sklearn에 내장된 분꽃 데이터\n",
        "from sklearn.model_selection import train_test_split\n",
        "from sklearn.tree import DecisionTreeClassifier\n",
        "from sklearn.metrics import accuracy_score\n",
        "from sklearn.tree import export_text\n",
        "from sklearn.tree import plot_tree\n",
        "import matplotlib.pyplot as plt # 그래프"
      ],
      "metadata": {
        "id": "o8Hp4gWsqaHh"
      },
      "execution_count": 8,
      "outputs": []
    },
    {
      "cell_type": "markdown",
      "source": [
        "분꽃(Iris)데이터 불러오기"
      ],
      "metadata": {
        "id": "fPRbHqU1qkWA"
      }
    },
    {
      "cell_type": "code",
      "source": [
        "# 데이터 불러오기\n",
        "iris = load_iris()\n",
        "X = iris.data   # sepal(꽃받침) length, sepal width, petal(꽃잎) length, petal width\n",
        "y = iris.target # 3가지(Setosa, Virginica, Versicolor) 분꽃 중 무엇인지 레이블 ()"
      ],
      "metadata": {
        "id": "JFLfMgwWqn83"
      },
      "execution_count": 9,
      "outputs": []
    },
    {
      "cell_type": "markdown",
      "source": [
        "데이터를 훈련과 테스트로 분할 훈련이 80%"
      ],
      "metadata": {
        "id": "qSWoGVMaq6eD"
      }
    },
    {
      "cell_type": "code",
      "source": [
        "# 데이터 분할\n",
        "X_train, X_test, y_train, y_test = train_test_split(X, y, test_size=0.2, random_state=50)"
      ],
      "metadata": {
        "id": "AVX0px4Uq5bO"
      },
      "execution_count": 18,
      "outputs": []
    },
    {
      "cell_type": "markdown",
      "source": [
        "결정트리 모델을 생성한다."
      ],
      "metadata": {
        "id": "BE0oUfFQrBNJ"
      }
    },
    {
      "cell_type": "code",
      "source": [
        "# 결정 트리 모델 생성\n",
        "clf = DecisionTreeClassifier(random_state=50)"
      ],
      "metadata": {
        "id": "GnE-9ZiFrEdo"
      },
      "execution_count": 19,
      "outputs": []
    },
    {
      "cell_type": "markdown",
      "source": [
        "모델을 학습한다."
      ],
      "metadata": {
        "id": "Xg8BU9X6rGSB"
      }
    },
    {
      "cell_type": "code",
      "source": [
        "# 모델 학습\n",
        "clf.fit(X_train, y_train)"
      ],
      "metadata": {
        "id": "pPHN3lQTrK4u"
      },
      "execution_count": null,
      "outputs": []
    },
    {
      "cell_type": "markdown",
      "source": [
        "테스트 데이터를 상대로 데이터 예측해 본다."
      ],
      "metadata": {
        "id": "pxhTVBx_rIGR"
      }
    },
    {
      "cell_type": "code",
      "source": [
        "# 테스트 데이터 예측\n",
        "y_pred = clf.predict(X_test)"
      ],
      "metadata": {
        "id": "JTIkHP7hrR2p"
      },
      "execution_count": 21,
      "outputs": []
    },
    {
      "cell_type": "markdown",
      "source": [
        "정확도를 평가한 다음 출력해 본다."
      ],
      "metadata": {
        "id": "zJo2U7DXrTjg"
      }
    },
    {
      "cell_type": "code",
      "source": [
        "# 정확도 평가\n",
        "accuracy = accuracy_score(y_test, y_pred)\n",
        "print(f'Accuracy: {accuracy:.3f}')"
      ],
      "metadata": {
        "id": "Ez1TWOrBrZkY"
      },
      "execution_count": null,
      "outputs": []
    },
    {
      "cell_type": "markdown",
      "source": [
        "각 노드에 어떤 변수가 선택되었는지 확인해 본다."
      ],
      "metadata": {
        "id": "xJTrvDcJrXiu"
      }
    },
    {
      "cell_type": "code",
      "source": [
        "feature_names = iris.feature_names\n",
        "tree = clf.tree_\n",
        "for node_id in range(tree.node_count):\n",
        "    if tree.feature[node_id] != -2:  # -2는 leaf node를 의미함\n",
        "        feature_index = tree.feature[node_id]\n",
        "        feature_name = feature_names[feature_index]\n",
        "        threshold = tree.threshold[node_id]\n",
        "        print(f\"Node {node_id}: Feature '{feature_name}' <= {threshold}\")"
      ],
      "metadata": {
        "id": "sCm08oJwrfI3"
      },
      "execution_count": null,
      "outputs": []
    },
    {
      "cell_type": "markdown",
      "source": [
        "전체 트리구조가 어떻게 되었는지, 텍스트로 확인해 본다."
      ],
      "metadata": {
        "id": "aYPYYq3QrhGJ"
      }
    },
    {
      "cell_type": "code",
      "execution_count": null,
      "metadata": {
        "id": "z4oupZ8hovtT"
      },
      "outputs": [],
      "source": [
        "tree_structure = export_text(clf, feature_names=iris.feature_names)\n",
        "print(tree_structure)"
      ]
    },
    {
      "cell_type": "markdown",
      "source": [
        "전체 트리구조가 어떻게 되었는지, 그림으로 확인해 본다."
      ],
      "metadata": {
        "id": "4RmNGI2vr0H3"
      }
    },
    {
      "cell_type": "code",
      "source": [
        "# 결정 트리 시각화\n",
        "plt.figure(figsize=(15, 10))\n",
        "plot_tree(clf, feature_names=iris.feature_names, class_names=iris.target_names, filled=True)\n",
        "plt.show()\n"
      ],
      "metadata": {
        "id": "nvgKm6c4qYKC"
      },
      "execution_count": null,
      "outputs": []
    }
  ]
}