{
  "nbformat": 4,
  "nbformat_minor": 0,
  "metadata": {
    "colab": {
      "provenance": [],
      "authorship_tag": "ABX9TyNjfMjhuHa36ksEDxAqp50P",
      "include_colab_link": true
    },
    "kernelspec": {
      "name": "python3",
      "display_name": "Python 3"
    },
    "language_info": {
      "name": "python"
    }
  },
  "cells": [
    {
      "cell_type": "markdown",
      "metadata": {
        "id": "view-in-github",
        "colab_type": "text"
      },
      "source": [
        "<a href=\"https://colab.research.google.com/github/cras-lab/ML-examples/blob/main/AutoEncoder.ipynb\" target=\"_parent\"><img src=\"https://colab.research.google.com/assets/colab-badge.svg\" alt=\"Open In Colab\"/></a>"
      ]
    },
    {
      "cell_type": "markdown",
      "source": [
        "Fashin_mnist 그림을 활용해 AutoEncoder 실습<BR>\n",
        "원래 이미지 784=(28,28)를 64로 압축한 다음 다시 복원<BR>\n",
        "우선 필요한 모듈 임포트"
      ],
      "metadata": {
        "id": "veHH4AKtxVY9"
      }
    },
    {
      "cell_type": "code",
      "execution_count": 3,
      "metadata": {
        "id": "6S6NHU2Mqkhj"
      },
      "outputs": [],
      "source": [
        "import tensorflow as tf\n",
        "from tensorflow.keras.datasets import fashion_mnist\n",
        "from tensorflow.keras.models import Model\n",
        "from tensorflow.keras.layers import Dense, Flatten, Reshape\n",
        "from tensorflow.keras.losses import MeanSquaredError\n",
        "import numpy as np\n",
        "import matplotlib.pyplot as plt\n",
        "#plt.style.use('seaborn-white')"
      ]
    },
    {
      "cell_type": "markdown",
      "source": [
        "\n",
        "mnist fashion 데이터를 로드<BR>\n",
        "fashion 데이터는 x는 이미지를 y는 0~9까지의 레이블(각각 티셔츠/탑\n",
        "바지/스웨터/드레스.. 등)을 반환하는데, <BR>\n",
        "여기서는 오토인코더이므로 y 값은 필요없음"
      ],
      "metadata": {
        "id": "HGBC_RwlyF_t"
      }
    },
    {
      "cell_type": "code",
      "source": [
        "(x_train, _), (x_test, _) = fashion_mnist.load_data()"
      ],
      "metadata": {
        "id": "X5POKRNQyHzH"
      },
      "execution_count": null,
      "outputs": []
    },
    {
      "cell_type": "markdown",
      "source": [
        "로딩된 데이터를 normalize"
      ],
      "metadata": {
        "id": "dJpE3fQmyWr_"
      }
    },
    {
      "cell_type": "code",
      "source": [
        "x_train = x_train.astype('float32') / 255.\n",
        "x_test = x_test.astype('float32') / 255."
      ],
      "metadata": {
        "id": "jLCIXlNbrTd9"
      },
      "execution_count": 5,
      "outputs": []
    },
    {
      "cell_type": "markdown",
      "source": [
        "각각 개수와 형식을 출력해 본다."
      ],
      "metadata": {
        "id": "RLK2vsYZ09nh"
      }
    },
    {
      "cell_type": "code",
      "source": [
        "print( x_train.shape)\n",
        "print(x_test.shape)"
      ],
      "metadata": {
        "id": "9om7FthB03zM"
      },
      "execution_count": null,
      "outputs": []
    },
    {
      "cell_type": "markdown",
      "source": [
        "최종 압축할 latent dimension을 설정한다."
      ],
      "metadata": {
        "id": "2XQA_I8d1COy"
      }
    },
    {
      "cell_type": "code",
      "source": [
        "latent_dim = 64"
      ],
      "metadata": {
        "id": "l9BwGBU81IeT"
      },
      "execution_count": 7,
      "outputs": []
    },
    {
      "cell_type": "markdown",
      "source": [
        "AutoEncoder class를 정의하여, 인코딩과 디코딩을 수행하도록 해 본다."
      ],
      "metadata": {
        "id": "Rd52jTR21J4i"
      }
    },
    {
      "cell_type": "code",
      "source": [
        "class AutoEncoder(Model):\n",
        "  def __init__(self, latent_dim):\n",
        "    super(AutoEncoder, self).__init__()\n",
        "\n",
        "    self.latent_dim = latent_dim\n",
        "    self.encoder = tf.keras.Sequential( [Flatten(), Dense(latent_dim, activation='relu')])\n",
        "    self.decoder = tf.keras.Sequential( [Dense(784, activation ='sigmoid'), Reshape((28,28))])\n",
        "\n",
        "  def call(self, x):\n",
        "    encoded = self.encoder(x)\n",
        "    decoded = self.decoder(encoded)\n",
        "    return decoded"
      ],
      "metadata": {
        "id": "BLMyvHiLrsFt"
      },
      "execution_count": 8,
      "outputs": []
    },
    {
      "cell_type": "markdown",
      "source": [
        "AutoEncoder의 인스턴스를 만든뒤, 최적기는 adam, loss는 MSE로 설정한다."
      ],
      "metadata": {
        "id": "-G1oM61X3rtK"
      }
    },
    {
      "cell_type": "code",
      "source": [
        "autoencoder = AutoEncoder(latent_dim)\n",
        "autoencoder.compile( optimizer='adam', loss=MeanSquaredError())"
      ],
      "metadata": {
        "id": "tOvLt_Pxs4Xt"
      },
      "execution_count": 9,
      "outputs": []
    },
    {
      "cell_type": "markdown",
      "source": [
        "적합화를 수행한다. 에폭은 10회만으로 한다."
      ],
      "metadata": {
        "id": "C76Rc2Gw32yV"
      }
    },
    {
      "cell_type": "code",
      "source": [
        "autoencoder.fit(x_train, x_train,\n",
        "                epochs=10,\n",
        "                shuffle=True,\n",
        "                validation_data=(x_test, x_test))"
      ],
      "metadata": {
        "id": "tznCUkExtGWP"
      },
      "execution_count": null,
      "outputs": []
    },
    {
      "cell_type": "markdown",
      "source": [
        "도식화를 위해 텐서 객체를 numpy() 객체로 만든다.<BR>\n",
        "autoencoder.encoder, autoencoder.decoder는 모두 텐서 객체를 반환 <<BR>\n",
        "따라서 numpy() 메서드를 사용하여 이 텐서를 NumPy 배열로 변환.<BR>\n",
        "변환된 NumPy 배열은 이미지나 데이터 포인트를 시각화하는 데 사용될 수 있다."
      ],
      "metadata": {
        "id": "-zFDEP5m4Ie7"
      }
    },
    {
      "cell_type": "code",
      "source": [
        "encoded_imgs = autoencoder(x_test).numpy()\n",
        "decoded_imgs = autoencoder(encoded_imgs).numpy()"
      ],
      "metadata": {
        "id": "hVNXRifJtYXv"
      },
      "execution_count": 11,
      "outputs": []
    },
    {
      "cell_type": "markdown",
      "source": [
        "10개 그림만 실제로 도식화"
      ],
      "metadata": {
        "id": "GX5PCydPPlCS"
      }
    },
    {
      "cell_type": "code",
      "source": [
        "n= 10\n",
        "plt.figure(figsize=(20,4))\n",
        "\n",
        "for i in range(n):\n",
        "  ax = plt.subplot(2, n , i+1)\n",
        "  plt.imshow(x_test[i])\n",
        "  plt.title('Original')\n",
        "  plt.gray()\n",
        "  ax.get_xaxis().set_visible(False)\n",
        "  ax.get_yaxis().set_visible(False)\n",
        "\n",
        "  ax = plt.subplot(2, n , i+1+n)\n",
        "  plt.imshow(decoded_imgs[i])\n",
        "  plt.title('Reconstructed')\n",
        "  plt.gray()\n",
        "  ax.get_xaxis().set_visible(False)\n",
        "  ax.get_yaxis().set_visible(False)\n",
        "\n"
      ],
      "metadata": {
        "id": "sCQE8llyt3dy"
      },
      "execution_count": null,
      "outputs": []
    }
  ]
}